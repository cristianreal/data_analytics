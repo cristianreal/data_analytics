{
 "cells": [
  {
   "cell_type": "code",
   "execution_count": 1,
   "id": "7015a381-b031-4c35-8e3a-8eb0f1ff4eca",
   "metadata": {},
   "outputs": [],
   "source": [
    "%%capture\n",
    "pip install mlflow"
   ]
  },
  {
   "cell_type": "code",
   "execution_count": null,
   "id": "6093f71a-bd97-4387-8b57-f1d9ae93d80a",
   "metadata": {},
   "outputs": [
    {
     "name": "stdout",
     "output_type": "stream",
     "text": [
      "[2024-11-11 03:42:49 +0000] [897] [INFO] Starting gunicorn 23.0.0\n",
      "[2024-11-11 03:42:49 +0000] [897] [INFO] Listening at: http://0.0.0.0:5000 (897)\n",
      "[2024-11-11 03:42:49 +0000] [897] [INFO] Using worker: sync\n",
      "[2024-11-11 03:42:49 +0000] [898] [INFO] Booting worker with pid: 898\n",
      "[2024-11-11 03:42:49 +0000] [899] [INFO] Booting worker with pid: 899\n",
      "[2024-11-11 03:42:49 +0000] [900] [INFO] Booting worker with pid: 900\n",
      "[2024-11-11 03:42:49 +0000] [901] [INFO] Booting worker with pid: 901\n",
      "Downloading artifacts: 100%|████████████████████| 1/1 [00:00<00:00, 5412.01it/s]\n",
      "Downloading artifacts: 100%|████████████████████| 1/1 [00:00<00:00, 4583.94it/s]\n",
      "Downloading artifacts: 100%|████████████████████| 1/1 [00:00<00:00, 5229.81it/s]\n",
      "Downloading artifacts: 100%|████████████████████| 1/1 [00:00<00:00, 7384.34it/s]\n",
      "Downloading artifacts: 100%|████████████████████| 1/1 [00:00<00:00, 3175.10it/s]\n",
      "Downloading artifacts: 100%|████████████████████| 1/1 [00:00<00:00, 3209.11it/s]\n",
      "Downloading artifacts: 100%|████████████████████| 1/1 [00:00<00:00, 1741.10it/s]\n",
      "Downloading artifacts: 100%|████████████████████| 1/1 [00:00<00:00, 2300.77it/s]\n",
      "Downloading artifacts: 100%|████████████████████| 1/1 [00:00<00:00, 2345.81it/s]\n",
      "Downloading artifacts: 100%|████████████████████| 1/1 [00:00<00:00, 2663.05it/s]\n",
      "Downloading artifacts: 100%|████████████████████| 1/1 [00:00<00:00, 2302.03it/s]\n",
      "Downloading artifacts: 100%|████████████████████| 1/1 [00:00<00:00, 2388.56it/s]\n",
      "Downloading artifacts: 100%|████████████████████| 1/1 [00:00<00:00, 2863.01it/s]\n",
      "Downloading artifacts: 100%|████████████████████| 1/1 [00:00<00:00, 2700.78it/s]\n",
      "Downloading artifacts: 100%|████████████████████| 1/1 [00:00<00:00, 2723.57it/s]\n",
      "Downloading artifacts: 100%|█████████████████████| 1/1 [00:00<00:00, 966.43it/s]\n",
      "Downloading artifacts: 100%|████████████████████| 1/1 [00:00<00:00, 3177.50it/s]\n",
      "Downloading artifacts: 100%|████████████████████| 1/1 [00:00<00:00, 3460.65it/s]\n",
      "Downloading artifacts: 100%|█████████████████████| 1/1 [00:00<00:00, 443.33it/s]\n",
      "Downloading artifacts: 100%|████████████████████| 1/1 [00:00<00:00, 3158.36it/s]\n",
      "Downloading artifacts: 100%|████████████████████| 1/1 [00:00<00:00, 3379.78it/s]\n",
      "Downloading artifacts: 100%|████████████████████| 1/1 [00:00<00:00, 2750.36it/s]\n",
      "Downloading artifacts: 100%|████████████████████| 1/1 [00:00<00:00, 3382.50it/s]\n",
      "Downloading artifacts: 100%|████████████████████| 1/1 [00:00<00:00, 2304.56it/s]\n",
      "Downloading artifacts: 100%|████████████████████| 1/1 [00:00<00:00, 2522.13it/s]\n",
      "Downloading artifacts: 100%|█████████████████████| 1/1 [00:00<00:00, 793.92it/s]\n",
      "Downloading artifacts: 100%|█████████████████████| 1/1 [00:00<00:00, 494.15it/s]\n",
      "Downloading artifacts: 100%|████████████████████| 1/1 [00:00<00:00, 1176.85it/s]\n",
      "Downloading artifacts: 100%|████████████████████| 1/1 [00:00<00:00, 2204.05it/s]\n",
      "Downloading artifacts: 100%|█████████████████████| 1/1 [00:00<00:00, 404.11it/s]\n",
      "Downloading artifacts: 100%|████████████████████| 1/1 [00:00<00:00, 3066.01it/s]\n",
      "Downloading artifacts: 100%|████████████████████| 1/1 [00:00<00:00, 2211.02it/s]\n",
      "Downloading artifacts: 100%|█████████████████████| 1/1 [00:00<00:00, 256.14it/s]\n",
      "Downloading artifacts: 100%|████████████████████| 1/1 [00:00<00:00, 2666.44it/s]\n",
      "Downloading artifacts: 100%|████████████████████| 1/1 [00:00<00:00, 2174.34it/s]\n",
      "Downloading artifacts: 100%|████████████████████| 1/1 [00:00<00:00, 1987.82it/s]\n",
      "Downloading artifacts:   0%|                              | 0/1 [00:00<?, ?it/s]\n",
      "Downloading artifacts: 100%|████████████████████| 1/1 [00:00<00:00, 2452.81it/s]\n",
      "Downloading artifacts: 100%|████████████████████| 1/1 [00:00<00:00, 2853.27it/s]\n",
      "Downloading artifacts: 100%|████████████████████| 1/1 [00:00<00:00, 2403.61it/s]\n",
      "Downloading artifacts: 100%|████████████████████| 1/1 [00:00<00:00, 3960.63it/s]\n",
      "Downloading artifacts: 100%|████████████████████| 1/1 [00:00<00:00, 1938.22it/s]\n",
      "Downloading artifacts: 100%|█████████████████████| 1/1 [00:00<00:00, 800.29it/s]\n",
      "Downloading artifacts: 100%|████████████████████| 1/1 [00:00<00:00, 2565.32it/s]\n",
      "Downloading artifacts: 100%|████████████████████| 1/1 [00:00<00:00, 2525.17it/s]\n",
      "Downloading artifacts: 100%|████████████████████| 1/1 [00:00<00:00, 2606.78it/s]\n",
      "Downloading artifacts: 100%|█████████████████████| 1/1 [00:00<00:00, 444.45it/s]\n",
      "Downloading artifacts: 100%|████████████████████| 1/1 [00:00<00:00, 2587.48it/s]\n",
      "Downloading artifacts: 100%|████████████████████| 1/1 [00:00<00:00, 1836.39it/s]\n",
      "Downloading artifacts: 100%|████████████████████| 1/1 [00:00<00:00, 1194.96it/s]\n",
      "Downloading artifacts: 100%|████████████████████| 1/1 [00:00<00:00, 3167.90it/s]\n",
      "Downloading artifacts: 100%|████████████████████| 1/1 [00:00<00:00, 2832.08it/s]\n",
      "Downloading artifacts: 100%|█████████████████████| 1/1 [00:00<00:00, 173.00it/s]\n",
      "Downloading artifacts: 100%|████████████████████| 1/1 [00:00<00:00, 3440.77it/s]\n",
      "Downloading artifacts: 100%|█████████████████████| 1/1 [00:00<00:00, 896.60it/s]\n",
      "Downloading artifacts: 100%|████████████████████| 1/1 [00:00<00:00, 2109.81it/s]\n",
      "Downloading artifacts: 100%|█████████████████████| 1/1 [00:00<00:00, 866.41it/s]\n",
      "Downloading artifacts: 100%|████████████████████| 1/1 [00:00<00:00, 3355.44it/s]\n",
      "Downloading artifacts: 100%|████████████████████| 1/1 [00:00<00:00, 3518.71it/s]\n",
      "Downloading artifacts: 100%|████████████████████| 1/1 [00:00<00:00, 3132.42it/s]\n",
      "Downloading artifacts: 100%|████████████████████| 1/1 [00:00<00:00, 1147.24it/s]\n",
      "Downloading artifacts: 100%|█████████████████████| 1/1 [00:00<00:00, 421.96it/s]\n",
      "Downloading artifacts: 100%|█████████████████████| 1/1 [00:00<00:00, 880.60it/s]\n"
     ]
    }
   ],
   "source": [
    "!mlflow ui --host 0.0.0.0"
   ]
  },
  {
   "cell_type": "code",
   "execution_count": null,
   "id": "8423977c-bc67-4203-bbc0-d597992f0dcc",
   "metadata": {},
   "outputs": [],
   "source": []
  }
 ],
 "metadata": {
  "kernelspec": {
   "display_name": "Python 3 (ipykernel)",
   "language": "python",
   "name": "python3"
  },
  "language_info": {
   "codemirror_mode": {
    "name": "ipython",
    "version": 3
   },
   "file_extension": ".py",
   "mimetype": "text/x-python",
   "name": "python",
   "nbconvert_exporter": "python",
   "pygments_lexer": "ipython3",
   "version": "3.11.6"
  }
 },
 "nbformat": 4,
 "nbformat_minor": 5
}
